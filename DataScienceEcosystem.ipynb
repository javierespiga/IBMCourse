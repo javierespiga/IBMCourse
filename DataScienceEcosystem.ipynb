{
 "cells": [
  {
   "cell_type": "markdown",
   "id": "a8d46c20-a7af-4356-9121-b5f7de367f69",
   "metadata": {
    "panel-layout": {
     "height": 94.3125,
     "visible": true,
     "width": 100
    }
   },
   "source": [
    "# Data Science Tools and Ecosystem"
   ]
  },
  {
   "cell_type": "markdown",
   "id": "5e71eaf6-bc16-4695-8c10-04dcdc578948",
   "metadata": {
    "panel-layout": {
     "height": 68,
     "visible": true,
     "width": 100
    }
   },
   "source": [
    "In this notebook, Data Science Tools and Ecosystem are summarized."
   ]
  },
  {
   "cell_type": "markdown",
   "id": "db64d2c8-fdef-4622-8e3c-a595bfcdd009",
   "metadata": {
    "panel-layout": {
     "height": 148.5625,
     "visible": true,
     "width": 100
    }
   },
   "source": [
    "Some of the popular languages that Data Scientists use are:\n",
    "1. Python\n",
    "2. SQL\n",
    "3. R\n",
    "4. Julia"
   ]
  },
  {
   "cell_type": "markdown",
   "id": "1fd7edf1-54ed-49c7-854c-71b72662cfd1",
   "metadata": {
    "panel-layout": {
     "height": 148.5625,
     "visible": true,
     "width": 100
    }
   },
   "source": [
    "Some of the commonly used libraries used by Data Scientists include:\n",
    "1. Numpy\n",
    "2. Pandas\n",
    "3. Matplotlib\n",
    "4. Scipy"
   ]
  },
  {
   "cell_type": "markdown",
   "id": "1245ad61-69af-408e-8396-4d55db65ea54",
   "metadata": {
    "panel-layout": {
     "height": 123,
     "visible": true,
     "width": 100
    }
   },
   "source": [
    "\n",
    "| Data Science Tools |\n",
    "|---------------|\n",
    "| JupyterLab |\n",
    "| Rstudio |\n",
    "| GitHub |"
   ]
  },
  {
   "cell_type": "markdown",
   "id": "9a6ed707-3ba7-4d50-8b20-61524f03b557",
   "metadata": {
    "panel-layout": {
     "height": 60.0625,
     "visible": true,
     "width": 100
    }
   },
   "source": [
    "#### Below are a few examples of evaluating arithmetic expressions in Python"
   ]
  },
  {
   "cell_type": "code",
   "execution_count": 80,
   "id": "5029be94-15c2-4ad5-999e-9f6af8b7c47d",
   "metadata": {
    "panel-layout": {
     "height": 27,
     "visible": true,
     "width": 100
    }
   },
   "outputs": [
    {
     "data": {
      "text/plain": [
       "17"
      ]
     },
     "execution_count": 80,
     "metadata": {},
     "output_type": "execute_result"
    }
   ],
   "source": [
    "#This a simple arithmetic expression to mutiply then add integers\n",
    "(3*4)+5"
   ]
  },
  {
   "cell_type": "code",
   "execution_count": 135,
   "id": "5ba61f67-f1b4-49d4-9de7-2f340c5b4098",
   "metadata": {
    "panel-layout": {
     "height": 0,
     "visible": true,
     "width": 100
    }
   },
   "outputs": [
    {
     "name": "stdout",
     "output_type": "stream",
     "text": [
      "3 hours 20 minutes\n"
     ]
    }
   ],
   "source": [
    "#This will convert 200 minutes to hours by diving by 60\n",
    "Minutes=200\n",
    "MinutesInHour=60\n",
    "Hour = int(Minutes/MinutesInHour)\n",
    "Min = (Minutes%MinutesInHour)\n",
    "print(Hour,\"hours\",Min,\"minutes\")"
   ]
  },
  {
   "cell_type": "markdown",
   "id": "9db23f86-5a07-4b34-90a9-606e24c85b1d",
   "metadata": {
    "panel-layout": {
     "height": 178.859375,
     "visible": true,
     "width": 100
    }
   },
   "source": [
    "# Objectives:\n",
    "+ List popular languages for Data Science\n",
    "+ Operator in Python\n",
    "+ Variables in Python\n",
    "+ Data Science Tools\n",
    "+ Commonly used libraries used by Data Scientists"
   ]
  },
  {
   "cell_type": "markdown",
   "id": "25e20c69-b2bf-4b74-92cf-42b93c67d602",
   "metadata": {
    "panel-layout": {
     "height": 83.546875,
     "visible": true,
     "width": 100
    }
   },
   "source": [
    "## Author\n",
    "Javier Espino García"
   ]
  },
  {
   "cell_type": "code",
   "execution_count": null,
   "id": "cbb9f5cb-8fd9-45c3-a0dd-1d90c672b2e4",
   "metadata": {},
   "outputs": [],
   "source": []
  }
 ],
 "metadata": {
  "kernelspec": {
   "display_name": "Python 3 (ipykernel)",
   "language": "python",
   "name": "python3"
  },
  "language_info": {
   "codemirror_mode": {
    "name": "ipython",
    "version": 3
   },
   "file_extension": ".py",
   "mimetype": "text/x-python",
   "name": "python",
   "nbconvert_exporter": "python",
   "pygments_lexer": "ipython3",
   "version": "3.12.4"
  },
  "panel-cell-order": [
   "a8d46c20-a7af-4356-9121-b5f7de367f69",
   "5e71eaf6-bc16-4695-8c10-04dcdc578948",
   "db64d2c8-fdef-4622-8e3c-a595bfcdd009",
   "1fd7edf1-54ed-49c7-854c-71b72662cfd1",
   "1245ad61-69af-408e-8396-4d55db65ea54",
   "9a6ed707-3ba7-4d50-8b20-61524f03b557",
   "5029be94-15c2-4ad5-999e-9f6af8b7c47d",
   "5ba61f67-f1b4-49d4-9de7-2f340c5b4098",
   "9db23f86-5a07-4b34-90a9-606e24c85b1d",
   "25e20c69-b2bf-4b74-92cf-42b93c67d602"
  ]
 },
 "nbformat": 4,
 "nbformat_minor": 5
}
